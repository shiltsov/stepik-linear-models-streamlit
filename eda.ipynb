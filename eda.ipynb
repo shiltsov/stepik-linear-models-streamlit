{
 "cells": [
  {
   "cell_type": "code",
   "execution_count": 1,
   "id": "b3d449a2",
   "metadata": {},
   "outputs": [],
   "source": [
    "import pandas as pd\n",
    "import seaborn as sns\n",
    "\n",
    "\n",
    "\"\"\"\n",
    "D_clients.csv\n",
    "D_close_loan.csv\n",
    "D_job.csv\n",
    "D_last_credit.csv\n",
    "D_loan.csv\n",
    "D_pens.csv\n",
    "D_salary.csv\n",
    "D_target.csv\n",
    "D_work.csv\n",
    "\"\"\"\n",
    "\n",
    "\n",
    "#df = pd.read_csv(\"datasets/bank-mix.csv\")\n",
    "#df.head()\n",
    "\n",
    "df_clients = pd.read_csv(\"datasets/D_clients.csv\")\n",
    "df_loan = pd.read_csv(\"datasets/D_loan.csv\")\n",
    "df_close_loan = pd.read_csv(\"datasets/D_close_loan.csv\")\n",
    "df_salary = pd.read_csv(\"datasets/D_salary.csv\")\n",
    "df_last_credit = pd.read_csv(\"datasets/D_last_credit.csv\")\n",
    "df_target = pd.read_csv(\"datasets/D_target.csv\")\n",
    "df_job = pd.read_csv(\"datasets/D_job.csv\")"
   ]
  },
  {
   "cell_type": "markdown",
   "id": "ea9f8bb5",
   "metadata": {},
   "source": [
    "Сначала сливаем с таргетом. там будут пропуски (не у всех клиентов известен отклик), но они нам неинтересны, поэтому делаем правый джоин чтобы они сразу удалились\n",
    "\n"
   ]
  },
  {
   "cell_type": "code",
   "execution_count": 2,
   "id": "717f6ed3",
   "metadata": {},
   "outputs": [],
   "source": [
    "df_cl_t = pd.merge(df_clients, df_target, how = \"right\", left_on = \"ID\", right_on = \"ID_CLIENT\" )"
   ]
  },
  {
   "cell_type": "code",
   "execution_count": 3,
   "id": "8de18912",
   "metadata": {},
   "outputs": [
    {
     "name": "stdout",
     "output_type": "stream",
     "text": [
      "<class 'pandas.core.frame.DataFrame'>\n",
      "Int64Index: 15223 entries, 0 to 15222\n",
      "Data columns (total 17 columns):\n",
      " #   Column                   Non-Null Count  Dtype \n",
      "---  ------                   --------------  ----- \n",
      " 0   ID                       15223 non-null  int64 \n",
      " 1   AGE                      15223 non-null  int64 \n",
      " 2   GENDER                   15223 non-null  int64 \n",
      " 3   EDUCATION                15223 non-null  object\n",
      " 4   MARITAL_STATUS           15223 non-null  object\n",
      " 5   CHILD_TOTAL              15223 non-null  int64 \n",
      " 6   DEPENDANTS               15223 non-null  int64 \n",
      " 7   SOCSTATUS_WORK_FL        15223 non-null  int64 \n",
      " 8   SOCSTATUS_PENS_FL        15223 non-null  int64 \n",
      " 9   REG_ADDRESS_PROVINCE     15223 non-null  object\n",
      " 10  FACT_ADDRESS_PROVINCE    15223 non-null  object\n",
      " 11  POSTAL_ADDRESS_PROVINCE  15223 non-null  object\n",
      " 12  FL_PRESENCE_FL           15223 non-null  int64 \n",
      " 13  OWN_AUTO                 15223 non-null  int64 \n",
      " 14  AGREEMENT_RK             15223 non-null  int64 \n",
      " 15  ID_CLIENT                15223 non-null  int64 \n",
      " 16  TARGET                   15223 non-null  int64 \n",
      "dtypes: int64(12), object(5)\n",
      "memory usage: 2.1+ MB\n"
     ]
    }
   ],
   "source": [
    "df_cl_t.info()"
   ]
  },
  {
   "cell_type": "code",
   "execution_count": 4,
   "id": "22209d78",
   "metadata": {},
   "outputs": [
    {
     "data": {
      "text/plain": [
       "(Index(['ID_LOAN', 'ID_CLIENT'], dtype='object'),\n",
       " Index(['ID_LOAN', 'CLOSED_FL'], dtype='object'),\n",
       " Index(['CREDIT', 'TERM', 'FST_PAYMENT', 'ID_CLIENT'], dtype='object'),\n",
       " Index(['ID', 'AGE', 'GENDER', 'EDUCATION', 'MARITAL_STATUS', 'CHILD_TOTAL',\n",
       "        'DEPENDANTS', 'SOCSTATUS_WORK_FL', 'SOCSTATUS_PENS_FL',\n",
       "        'REG_ADDRESS_PROVINCE', 'FACT_ADDRESS_PROVINCE',\n",
       "        'POSTAL_ADDRESS_PROVINCE', 'FL_PRESENCE_FL', 'OWN_AUTO'],\n",
       "       dtype='object'))"
      ]
     },
     "execution_count": 4,
     "metadata": {},
     "output_type": "execute_result"
    }
   ],
   "source": [
    "df_loan.columns, df_close_loan.columns, df_last_credit.columns, df_clients.columns"
   ]
  },
  {
   "cell_type": "markdown",
   "id": "eea1c140",
   "metadata": {},
   "source": [
    "Смержим таблицы кредитов по ID_LOAN (left join, нас не интересуют закрытые кредиты по которым нет связи c ID_CLIENT)\n",
    "далее агрегируем по ID_CLIENT - получаем по каждому клиенту сколько брал кредитов, сколько вернул на даный момент"
   ]
  },
  {
   "cell_type": "code",
   "execution_count": 5,
   "id": "5914251a",
   "metadata": {},
   "outputs": [],
   "source": [
    "df_credits = pd.merge(df_loan, df_close_loan, how = \"left\", on = \"ID_LOAN\")\n",
    "df_client_credits = df_credits[[\"ID_CLIENT\",\"CLOSED_FL\"]].groupby(\"ID_CLIENT\").aggregate([\"count\",\"sum\"])\n",
    "df_client_credits.columns = [\"credits\",\"closed\"]"
   ]
  },
  {
   "cell_type": "code",
   "execution_count": 6,
   "id": "643ace90",
   "metadata": {},
   "outputs": [
    {
     "name": "stdout",
     "output_type": "stream",
     "text": [
      "<class 'pandas.core.frame.DataFrame'>\n",
      "Int64Index: 15223 entries, 106804370 to 106819592\n",
      "Data columns (total 2 columns):\n",
      " #   Column   Non-Null Count  Dtype\n",
      "---  ------   --------------  -----\n",
      " 0   credits  15223 non-null  int64\n",
      " 1   closed   15223 non-null  int64\n",
      "dtypes: int64(2)\n",
      "memory usage: 356.8 KB\n"
     ]
    }
   ],
   "source": [
    "df_client_credits.info()"
   ]
  },
  {
   "cell_type": "markdown",
   "id": "14c1ab77",
   "metadata": {},
   "source": [
    "Точно также приклеим данные по зарплате (left join)"
   ]
  },
  {
   "cell_type": "code",
   "execution_count": 7,
   "id": "f5776570",
   "metadata": {},
   "outputs": [
    {
     "data": {
      "text/html": [
       "<div>\n",
       "<style scoped>\n",
       "    .dataframe tbody tr th:only-of-type {\n",
       "        vertical-align: middle;\n",
       "    }\n",
       "\n",
       "    .dataframe tbody tr th {\n",
       "        vertical-align: top;\n",
       "    }\n",
       "\n",
       "    .dataframe thead th {\n",
       "        text-align: right;\n",
       "    }\n",
       "</style>\n",
       "<table border=\"1\" class=\"dataframe\">\n",
       "  <thead>\n",
       "    <tr style=\"text-align: right;\">\n",
       "      <th></th>\n",
       "      <th>ID</th>\n",
       "      <th>AGE</th>\n",
       "      <th>GENDER</th>\n",
       "      <th>EDUCATION</th>\n",
       "      <th>MARITAL_STATUS</th>\n",
       "      <th>CHILD_TOTAL</th>\n",
       "      <th>DEPENDANTS</th>\n",
       "      <th>SOCSTATUS_WORK_FL</th>\n",
       "      <th>SOCSTATUS_PENS_FL</th>\n",
       "      <th>REG_ADDRESS_PROVINCE</th>\n",
       "      <th>...</th>\n",
       "      <th>TARGET</th>\n",
       "      <th>credits</th>\n",
       "      <th>closed</th>\n",
       "      <th>FAMILY_INCOME</th>\n",
       "      <th>PERSONAL_INCOME</th>\n",
       "      <th>ID_CLIENT_y</th>\n",
       "      <th>GEN_INDUSTRY</th>\n",
       "      <th>GEN_TITLE</th>\n",
       "      <th>JOB_DIR</th>\n",
       "      <th>WORK_TIME</th>\n",
       "    </tr>\n",
       "  </thead>\n",
       "  <tbody>\n",
       "    <tr>\n",
       "      <th>0</th>\n",
       "      <td>106804370</td>\n",
       "      <td>49</td>\n",
       "      <td>1</td>\n",
       "      <td>Среднее специальное</td>\n",
       "      <td>Состою в браке</td>\n",
       "      <td>2</td>\n",
       "      <td>1</td>\n",
       "      <td>1</td>\n",
       "      <td>0</td>\n",
       "      <td>Оренбургская область</td>\n",
       "      <td>...</td>\n",
       "      <td>0</td>\n",
       "      <td>1</td>\n",
       "      <td>1</td>\n",
       "      <td>от 10000 до 20000 руб.</td>\n",
       "      <td>5000.0</td>\n",
       "      <td>106804370</td>\n",
       "      <td>Торговля</td>\n",
       "      <td>Рабочий</td>\n",
       "      <td>Вспомогательный техперсонал</td>\n",
       "      <td>18.0</td>\n",
       "    </tr>\n",
       "    <tr>\n",
       "      <th>1</th>\n",
       "      <td>106804370</td>\n",
       "      <td>49</td>\n",
       "      <td>1</td>\n",
       "      <td>Среднее специальное</td>\n",
       "      <td>Состою в браке</td>\n",
       "      <td>2</td>\n",
       "      <td>1</td>\n",
       "      <td>1</td>\n",
       "      <td>0</td>\n",
       "      <td>Оренбургская область</td>\n",
       "      <td>...</td>\n",
       "      <td>0</td>\n",
       "      <td>1</td>\n",
       "      <td>1</td>\n",
       "      <td>от 10000 до 20000 руб.</td>\n",
       "      <td>5000.0</td>\n",
       "      <td>106804370</td>\n",
       "      <td>Торговля</td>\n",
       "      <td>Рабочий</td>\n",
       "      <td>Вспомогательный техперсонал</td>\n",
       "      <td>18.0</td>\n",
       "    </tr>\n",
       "  </tbody>\n",
       "</table>\n",
       "<p>2 rows × 26 columns</p>\n",
       "</div>"
      ],
      "text/plain": [
       "          ID  AGE  GENDER            EDUCATION  MARITAL_STATUS  CHILD_TOTAL  \\\n",
       "0  106804370   49       1  Среднее специальное  Состою в браке            2   \n",
       "1  106804370   49       1  Среднее специальное  Состою в браке            2   \n",
       "\n",
       "   DEPENDANTS  SOCSTATUS_WORK_FL  SOCSTATUS_PENS_FL  REG_ADDRESS_PROVINCE  \\\n",
       "0           1                  1                  0  Оренбургская область   \n",
       "1           1                  1                  0  Оренбургская область   \n",
       "\n",
       "   ... TARGET credits  closed           FAMILY_INCOME  PERSONAL_INCOME  \\\n",
       "0  ...      0       1       1  от 10000 до 20000 руб.           5000.0   \n",
       "1  ...      0       1       1  от 10000 до 20000 руб.           5000.0   \n",
       "\n",
       "   ID_CLIENT_y  GEN_INDUSTRY  GEN_TITLE                      JOB_DIR WORK_TIME  \n",
       "0    106804370      Торговля    Рабочий  Вспомогательный техперсонал      18.0  \n",
       "1    106804370      Торговля    Рабочий  Вспомогательный техперсонал      18.0  \n",
       "\n",
       "[2 rows x 26 columns]"
      ]
     },
     "execution_count": 7,
     "metadata": {},
     "output_type": "execute_result"
    }
   ],
   "source": [
    "df_mix_tmp = pd.merge(df_cl_t, df_client_credits, how = \"left\", left_on = \"ID\", right_on = \"ID_CLIENT\")\n",
    "df_mix_tmp_1 = pd.merge(df_mix_tmp, df_salary, how = \"left\", left_on = \"ID\", right_on = \"ID_CLIENT\")\n",
    "df_mix = pd.merge(df_mix_tmp_1, df_job, how = \"left\", left_on = \"ID\", right_on = \"ID_CLIENT\")\\\n",
    "                    .drop(\"ID_CLIENT\", axis=1)\n",
    "df_mix.head(2)"
   ]
  },
  {
   "cell_type": "code",
   "execution_count": 8,
   "id": "e845b93f",
   "metadata": {},
   "outputs": [
    {
     "name": "stdout",
     "output_type": "stream",
     "text": [
      "<class 'pandas.core.frame.DataFrame'>\n",
      "Int64Index: 15523 entries, 0 to 15522\n",
      "Data columns (total 26 columns):\n",
      " #   Column                   Non-Null Count  Dtype  \n",
      "---  ------                   --------------  -----  \n",
      " 0   ID                       15523 non-null  int64  \n",
      " 1   AGE                      15523 non-null  int64  \n",
      " 2   GENDER                   15523 non-null  int64  \n",
      " 3   EDUCATION                15523 non-null  object \n",
      " 4   MARITAL_STATUS           15523 non-null  object \n",
      " 5   CHILD_TOTAL              15523 non-null  int64  \n",
      " 6   DEPENDANTS               15523 non-null  int64  \n",
      " 7   SOCSTATUS_WORK_FL        15523 non-null  int64  \n",
      " 8   SOCSTATUS_PENS_FL        15523 non-null  int64  \n",
      " 9   REG_ADDRESS_PROVINCE     15523 non-null  object \n",
      " 10  FACT_ADDRESS_PROVINCE    15523 non-null  object \n",
      " 11  POSTAL_ADDRESS_PROVINCE  15523 non-null  object \n",
      " 12  FL_PRESENCE_FL           15523 non-null  int64  \n",
      " 13  OWN_AUTO                 15523 non-null  int64  \n",
      " 14  AGREEMENT_RK             15523 non-null  int64  \n",
      " 15  ID_CLIENT_x              15523 non-null  int64  \n",
      " 16  TARGET                   15523 non-null  int64  \n",
      " 17  credits                  15523 non-null  int64  \n",
      " 18  closed                   15523 non-null  int64  \n",
      " 19  FAMILY_INCOME            15523 non-null  object \n",
      " 20  PERSONAL_INCOME          15523 non-null  float64\n",
      " 21  ID_CLIENT_y              15523 non-null  int64  \n",
      " 22  GEN_INDUSTRY             14126 non-null  object \n",
      " 23  GEN_TITLE                14126 non-null  object \n",
      " 24  JOB_DIR                  14126 non-null  object \n",
      " 25  WORK_TIME                14125 non-null  float64\n",
      "dtypes: float64(2), int64(15), object(9)\n",
      "memory usage: 3.2+ MB\n"
     ]
    }
   ],
   "source": [
    "df_mix.info()"
   ]
  },
  {
   "cell_type": "code",
   "execution_count": 24,
   "id": "c78ce0c5",
   "metadata": {},
   "outputs": [],
   "source": [
    "df_mix.to_csv(\"datasets/final.csv\")"
   ]
  },
  {
   "cell_type": "code",
   "execution_count": 9,
   "id": "e53c5ac9",
   "metadata": {},
   "outputs": [
    {
     "data": {
      "text/plain": [
       "0"
      ]
     },
     "execution_count": 9,
     "metadata": {},
     "output_type": "execute_result"
    }
   ],
   "source": [
    "df_mix[\"TARGET\"].isna().sum()"
   ]
  },
  {
   "cell_type": "code",
   "execution_count": 10,
   "id": "0202631e",
   "metadata": {},
   "outputs": [
    {
     "data": {
      "text/plain": [
       "Index(['ID', 'AGE', 'GENDER', 'EDUCATION', 'MARITAL_STATUS', 'CHILD_TOTAL',\n",
       "       'DEPENDANTS', 'SOCSTATUS_WORK_FL', 'SOCSTATUS_PENS_FL',\n",
       "       'REG_ADDRESS_PROVINCE', 'FACT_ADDRESS_PROVINCE',\n",
       "       'POSTAL_ADDRESS_PROVINCE', 'FL_PRESENCE_FL', 'OWN_AUTO', 'AGREEMENT_RK',\n",
       "       'ID_CLIENT_x', 'TARGET', 'credits', 'closed', 'FAMILY_INCOME',\n",
       "       'PERSONAL_INCOME', 'ID_CLIENT_y', 'GEN_INDUSTRY', 'GEN_TITLE',\n",
       "       'JOB_DIR', 'WORK_TIME'],\n",
       "      dtype='object')"
      ]
     },
     "execution_count": 10,
     "metadata": {},
     "output_type": "execute_result"
    }
   ],
   "source": [
    "df_mix.columns"
   ]
  },
  {
   "cell_type": "code",
   "execution_count": 12,
   "id": "d26fed1a",
   "metadata": {},
   "outputs": [
    {
     "data": {
      "text/plain": [
       "1    10152\n",
       "0     5371\n",
       "Name: GENDER, dtype: int64"
      ]
     },
     "execution_count": 12,
     "metadata": {},
     "output_type": "execute_result"
    }
   ],
   "source": [
    "df_mix[\"GENDER\"].value_counts()"
   ]
  },
  {
   "cell_type": "code",
   "execution_count": null,
   "id": "5bdb5c6c",
   "metadata": {},
   "outputs": [],
   "source": []
  },
  {
   "cell_type": "code",
   "execution_count": null,
   "id": "495283db",
   "metadata": {},
   "outputs": [],
   "source": []
  },
  {
   "cell_type": "code",
   "execution_count": null,
   "id": "a2d7a57c",
   "metadata": {},
   "outputs": [],
   "source": []
  }
 ],
 "metadata": {
  "kernelspec": {
   "display_name": "Python 3 (ipykernel)",
   "language": "python",
   "name": "python3"
  },
  "language_info": {
   "codemirror_mode": {
    "name": "ipython",
    "version": 3
   },
   "file_extension": ".py",
   "mimetype": "text/x-python",
   "name": "python",
   "nbconvert_exporter": "python",
   "pygments_lexer": "ipython3",
   "version": "3.8.16"
  }
 },
 "nbformat": 4,
 "nbformat_minor": 5
}
